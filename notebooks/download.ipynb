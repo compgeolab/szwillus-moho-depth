{
 "cells": [
  {
   "cell_type": "markdown",
   "metadata": {},
   "source": [
    "# Download the data and convert it to netCDF\n",
    "\n",
    "The original data is provided in the supplementary material of the paper as a text file of longitude, latitude, Moho depth, and uncertainty. It's much easier to work with the gridded data if it's stored in netCDF instead."
   ]
  },
  {
   "cell_type": "markdown",
   "metadata": {},
   "source": [
    "## Import things"
   ]
  },
  {
   "cell_type": "code",
   "execution_count": 1,
   "metadata": {},
   "outputs": [],
   "source": [
    "import numpy as np\n",
    "import xarray as xr\n",
    "import pooch"
   ]
  },
  {
   "cell_type": "markdown",
   "metadata": {},
   "source": [
    "## Download\n",
    "\n",
    "We'll download the data using [Pooch](https://github.com/fatiando/pooch). It will be saved to a cache folder on your computer that it's only downloaded once, even if you run this code many times."
   ]
  },
  {
   "cell_type": "code",
   "execution_count": 2,
   "metadata": {},
   "outputs": [
    {
     "name": "stderr",
     "output_type": "stream",
     "text": [
      "Downloading data from 'https://agupubs.onlinelibrary.wiley.com/action/downloadSupplement?doi=10.1029%2F2018JB016593&file=jgrb53251-sup-0003-Data_Set_SI-S03.txt' to file '/home/leo/.cache/pooch/szwillus-moho-depth.txt'.\n"
     ]
    }
   ],
   "source": [
    "url = \"https://agupubs.onlinelibrary.wiley.com/action/downloadSupplement?doi=10.1029%2F2018JB016593&file=jgrb53251-sup-0003-Data_Set_SI-S03.txt\"\n",
    "# Pretent to be a browser so AGU lets us download the file\n",
    "headers = {\n",
    "    'User-Agent': 'Mozilla/5.0 (Macintosh; Intel Mac OS X 10_11_5) AppleWebKit/537.36 (KHTML, like Gecko) Chrome/50.0.2661.102 Safari/537.36'\n",
    "}\n",
    "fname = pooch.retrieve(\n",
    "    url, \n",
    "    known_hash=\"sha256:1a8654f3b8f0821b30a1f1fc63034450c37b282e9f2016f14b075853e305b13e\", \n",
    "    fname=\"szwillus-moho-depth.txt\",\n",
    "    downloader=pooch.HTTPDownloader(headers=headers)\n",
    ")"
   ]
  },
  {
   "cell_type": "markdown",
   "metadata": {},
   "source": [
    "## Read\n",
    "\n",
    "Read in the data using numpy."
   ]
  },
  {
   "cell_type": "code",
   "execution_count": null,
   "metadata": {},
   "outputs": [],
   "source": []
  }
 ],
 "metadata": {
  "kernelspec": {
   "display_name": "Python [conda env:szwillus-moho-depth]",
   "language": "python",
   "name": "conda-env-szwillus-moho-depth-py"
  },
  "language_info": {
   "codemirror_mode": {
    "name": "ipython",
    "version": 3
   },
   "file_extension": ".py",
   "mimetype": "text/x-python",
   "name": "python",
   "nbconvert_exporter": "python",
   "pygments_lexer": "ipython3",
   "version": "3.8.6"
  }
 },
 "nbformat": 4,
 "nbformat_minor": 4
}
